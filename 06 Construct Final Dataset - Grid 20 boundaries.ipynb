{
 "cells": [
  {
   "cell_type": "code",
   "execution_count": 1,
   "metadata": {},
   "outputs": [],
   "source": [
    "import pandas as pd\n",
    "import numpy as np"
   ]
  },
  {
   "cell_type": "markdown",
   "metadata": {},
   "source": [
    "## Load data"
   ]
  },
  {
   "cell_type": "code",
   "execution_count": 2,
   "metadata": {},
   "outputs": [],
   "source": [
    "conf = pd.read_csv('/Users/Anna/Library/Mobile Documents/com~apple~CloudDocs/Kandidat/Speciale/Empirical Analysis - Mines and Conflict/Output/Grids/Conflicts in grid/Conf_Grid_20.csv')"
   ]
  },
  {
   "cell_type": "code",
   "execution_count": 5,
   "metadata": {},
   "outputs": [],
   "source": [
    "conf = conf.rename(columns={'Grid_id':'Grid_ID'})"
   ]
  },
  {
   "cell_type": "code",
   "execution_count": 6,
   "metadata": {},
   "outputs": [],
   "source": [
    "conf = conf.sort_values(['data_id', 'Grid_ID']).drop_duplicates('data_id') # remove duplicated (lowest Grid_ID - keeping the left or top grid)"
   ]
  },
  {
   "cell_type": "code",
   "execution_count": 7,
   "metadata": {},
   "outputs": [
    {
     "data": {
      "text/plain": [
       "True"
      ]
     },
     "execution_count": 7,
     "metadata": {},
     "output_type": "execute_result"
    }
   ],
   "source": [
    "len(conf) == 9693"
   ]
  },
  {
   "cell_type": "code",
   "execution_count": 8,
   "metadata": {},
   "outputs": [],
   "source": [
    "mines_adm3 = pd.read_csv('/Users/Anna/Library/Mobile Documents/com~apple~CloudDocs/Kandidat/Speciale/Empirical Analysis - Mines and Conflict/Output/Grids/Mines in grid/Mines_Grid_20.csv')"
   ]
  },
  {
   "cell_type": "code",
   "execution_count": 11,
   "metadata": {},
   "outputs": [],
   "source": [
    "mines_adm3 = mines_adm3.rename(columns={'Grid_id':'Grid_ID'})"
   ]
  },
  {
   "cell_type": "code",
   "execution_count": 12,
   "metadata": {},
   "outputs": [],
   "source": [
    "mines_robust = pd.read_csv('mines_robust.csv')"
   ]
  },
  {
   "cell_type": "code",
   "execution_count": 19,
   "metadata": {},
   "outputs": [],
   "source": [
    "mines = pd.merge(mines_robust, mines_adm3[['latitude', 'longitude', 'ADM3', 'Grid_ID']], how='left', on=['latitude', 'longitude'])"
   ]
  },
  {
   "cell_type": "code",
   "execution_count": 20,
   "metadata": {},
   "outputs": [],
   "source": [
    "mines = mines[['Mineral', 'Grid_ID', 'ADM3']]"
   ]
  },
  {
   "cell_type": "code",
   "execution_count": 21,
   "metadata": {},
   "outputs": [
    {
     "data": {
      "text/html": [
       "<div>\n",
       "<style scoped>\n",
       "    .dataframe tbody tr th:only-of-type {\n",
       "        vertical-align: middle;\n",
       "    }\n",
       "\n",
       "    .dataframe tbody tr th {\n",
       "        vertical-align: top;\n",
       "    }\n",
       "\n",
       "    .dataframe thead th {\n",
       "        text-align: right;\n",
       "    }\n",
       "</style>\n",
       "<table border=\"1\" class=\"dataframe\">\n",
       "  <thead>\n",
       "    <tr style=\"text-align: right;\">\n",
       "      <th></th>\n",
       "      <th>Mineral</th>\n",
       "      <th>Grid_ID</th>\n",
       "      <th>ADM3</th>\n",
       "    </tr>\n",
       "  </thead>\n",
       "  <tbody>\n",
       "    <tr>\n",
       "      <td>0</td>\n",
       "      <td>Copper</td>\n",
       "      <td>4313.0</td>\n",
       "      <td>Kouga Local Municipality</td>\n",
       "    </tr>\n",
       "    <tr>\n",
       "      <td>1</td>\n",
       "      <td>Gold</td>\n",
       "      <td>4326.0</td>\n",
       "      <td>Bitou Local Municipality</td>\n",
       "    </tr>\n",
       "    <tr>\n",
       "      <td>2</td>\n",
       "      <td>Gold</td>\n",
       "      <td>4326.0</td>\n",
       "      <td>Bitou Local Municipality</td>\n",
       "    </tr>\n",
       "    <tr>\n",
       "      <td>3</td>\n",
       "      <td>Gold</td>\n",
       "      <td>4316.0</td>\n",
       "      <td>Bitou Local Municipality</td>\n",
       "    </tr>\n",
       "    <tr>\n",
       "      <td>4</td>\n",
       "      <td>Gold</td>\n",
       "      <td>4316.0</td>\n",
       "      <td>Bitou Local Municipality</td>\n",
       "    </tr>\n",
       "    <tr>\n",
       "      <td>...</td>\n",
       "      <td>...</td>\n",
       "      <td>...</td>\n",
       "      <td>...</td>\n",
       "    </tr>\n",
       "    <tr>\n",
       "      <td>1124</td>\n",
       "      <td>Copper</td>\n",
       "      <td>1057.0</td>\n",
       "      <td>Makhado Local Municipality</td>\n",
       "    </tr>\n",
       "    <tr>\n",
       "      <td>1125</td>\n",
       "      <td>Coal</td>\n",
       "      <td>982.0</td>\n",
       "      <td>Thulamela Local Municipality</td>\n",
       "    </tr>\n",
       "    <tr>\n",
       "      <td>1126</td>\n",
       "      <td>Coal</td>\n",
       "      <td>992.0</td>\n",
       "      <td>Mutale Local Municipality</td>\n",
       "    </tr>\n",
       "    <tr>\n",
       "      <td>1127</td>\n",
       "      <td>Coal</td>\n",
       "      <td>993.0</td>\n",
       "      <td>Mutale Local Municipality</td>\n",
       "    </tr>\n",
       "    <tr>\n",
       "      <td>1128</td>\n",
       "      <td>Copper</td>\n",
       "      <td>1083.0</td>\n",
       "      <td>Musina Local Municipality</td>\n",
       "    </tr>\n",
       "  </tbody>\n",
       "</table>\n",
       "<p>1129 rows × 3 columns</p>\n",
       "</div>"
      ],
      "text/plain": [
       "     Mineral  Grid_ID                          ADM3\n",
       "0     Copper   4313.0      Kouga Local Municipality\n",
       "1       Gold   4326.0      Bitou Local Municipality\n",
       "2       Gold   4326.0      Bitou Local Municipality\n",
       "3       Gold   4316.0      Bitou Local Municipality\n",
       "4       Gold   4316.0      Bitou Local Municipality\n",
       "...      ...      ...                           ...\n",
       "1124  Copper   1057.0    Makhado Local Municipality\n",
       "1125    Coal    982.0  Thulamela Local Municipality\n",
       "1126    Coal    992.0     Mutale Local Municipality\n",
       "1127    Coal    993.0     Mutale Local Municipality\n",
       "1128  Copper   1083.0     Musina Local Municipality\n",
       "\n",
       "[1129 rows x 3 columns]"
      ]
     },
     "execution_count": 21,
     "metadata": {},
     "output_type": "execute_result"
    }
   ],
   "source": [
    "mines"
   ]
  },
  {
   "cell_type": "code",
   "execution_count": 22,
   "metadata": {},
   "outputs": [],
   "source": [
    "mines.Mineral = mines.Mineral.apply(lambda x: str(x)+str('_min'))"
   ]
  },
  {
   "cell_type": "code",
   "execution_count": 23,
   "metadata": {},
   "outputs": [],
   "source": [
    "prices = pd.read_csv('monthly_prices_log.csv')\n",
    "prices = prices.drop(columns='Unnamed: 0')"
   ]
  },
  {
   "cell_type": "code",
   "execution_count": 25,
   "metadata": {},
   "outputs": [],
   "source": [
    "grids = pd.read_csv('/Users/Anna/Library/Mobile Documents/com~apple~CloudDocs/Kandidat/Speciale/Empirical Analysis - Mines and Conflict/Output/Grids/grid_w_SOU_att/Grid_20_ADM3.csv')"
   ]
  },
  {
   "cell_type": "code",
   "execution_count": 27,
   "metadata": {},
   "outputs": [],
   "source": [
    "grids = grids.rename(columns={'Grid_id':'Grid_ID'})"
   ]
  },
  {
   "cell_type": "code",
   "execution_count": 28,
   "metadata": {},
   "outputs": [],
   "source": [
    "grids = grids [['Grid_ID', 'ADM3']]"
   ]
  },
  {
   "cell_type": "markdown",
   "metadata": {},
   "source": [
    "## Montly conflict data"
   ]
  },
  {
   "cell_type": "code",
   "execution_count": 29,
   "metadata": {},
   "outputs": [],
   "source": [
    "conf['count'] = 1"
   ]
  },
  {
   "cell_type": "code",
   "execution_count": 30,
   "metadata": {},
   "outputs": [],
   "source": [
    "conf_types = pd.pivot_table(conf, values='count', index=['Grid_ID', 'event_date'], columns=['event_type'], aggfunc=np.sum, fill_value=0).reset_index()"
   ]
  },
  {
   "cell_type": "code",
   "execution_count": 31,
   "metadata": {},
   "outputs": [
    {
     "data": {
      "text/plain": [
       "9693"
      ]
     },
     "execution_count": 31,
     "metadata": {},
     "output_type": "execute_result"
    }
   ],
   "source": [
    "65+9+4771+4228+38+582"
   ]
  },
  {
   "cell_type": "code",
   "execution_count": 32,
   "metadata": {},
   "outputs": [
    {
     "data": {
      "text/plain": [
       "0      2015-10-30\n",
       "1      2012-08-25\n",
       "2      2016-01-06\n",
       "3      2016-06-30\n",
       "4      2016-05-31\n",
       "          ...    \n",
       "8883   2019-11-21\n",
       "8884   2014-08-31\n",
       "8885   2018-11-13\n",
       "8886   2018-11-14\n",
       "8887   2017-08-26\n",
       "Name: event_date, Length: 8888, dtype: datetime64[ns]"
      ]
     },
     "execution_count": 32,
     "metadata": {},
     "output_type": "execute_result"
    }
   ],
   "source": [
    "pd.to_datetime(conf_types.event_date)"
   ]
  },
  {
   "cell_type": "code",
   "execution_count": 33,
   "metadata": {},
   "outputs": [],
   "source": [
    "conf_types['year_month'] = pd.to_datetime(conf_types['event_date']).dt.to_period('M')"
   ]
  },
  {
   "cell_type": "code",
   "execution_count": 34,
   "metadata": {},
   "outputs": [
    {
     "data": {
      "text/html": [
       "<div>\n",
       "<style scoped>\n",
       "    .dataframe tbody tr th:only-of-type {\n",
       "        vertical-align: middle;\n",
       "    }\n",
       "\n",
       "    .dataframe tbody tr th {\n",
       "        vertical-align: top;\n",
       "    }\n",
       "\n",
       "    .dataframe thead th {\n",
       "        text-align: right;\n",
       "    }\n",
       "</style>\n",
       "<table border=\"1\" class=\"dataframe\">\n",
       "  <thead>\n",
       "    <tr style=\"text-align: right;\">\n",
       "      <th>event_type</th>\n",
       "      <th>Grid_ID</th>\n",
       "      <th>event_date</th>\n",
       "      <th>Battles</th>\n",
       "      <th>Explosions/Remote violence</th>\n",
       "      <th>Protests</th>\n",
       "      <th>Riots</th>\n",
       "      <th>Strategic developments</th>\n",
       "      <th>Violence against civilians</th>\n",
       "      <th>year_month</th>\n",
       "    </tr>\n",
       "  </thead>\n",
       "  <tbody>\n",
       "    <tr>\n",
       "      <td>0</td>\n",
       "      <td>8</td>\n",
       "      <td>30/10/2015</td>\n",
       "      <td>0</td>\n",
       "      <td>0</td>\n",
       "      <td>0</td>\n",
       "      <td>1</td>\n",
       "      <td>0</td>\n",
       "      <td>0</td>\n",
       "      <td>2015-10</td>\n",
       "    </tr>\n",
       "    <tr>\n",
       "      <td>1</td>\n",
       "      <td>15</td>\n",
       "      <td>25/08/2012</td>\n",
       "      <td>0</td>\n",
       "      <td>0</td>\n",
       "      <td>0</td>\n",
       "      <td>1</td>\n",
       "      <td>0</td>\n",
       "      <td>0</td>\n",
       "      <td>2012-08</td>\n",
       "    </tr>\n",
       "    <tr>\n",
       "      <td>2</td>\n",
       "      <td>22</td>\n",
       "      <td>01/06/2016</td>\n",
       "      <td>0</td>\n",
       "      <td>0</td>\n",
       "      <td>0</td>\n",
       "      <td>1</td>\n",
       "      <td>0</td>\n",
       "      <td>0</td>\n",
       "      <td>2016-01</td>\n",
       "    </tr>\n",
       "  </tbody>\n",
       "</table>\n",
       "</div>"
      ],
      "text/plain": [
       "event_type  Grid_ID  event_date  Battles  Explosions/Remote violence  \\\n",
       "0                 8  30/10/2015        0                           0   \n",
       "1                15  25/08/2012        0                           0   \n",
       "2                22  01/06/2016        0                           0   \n",
       "\n",
       "event_type  Protests  Riots  Strategic developments  \\\n",
       "0                  0      1                       0   \n",
       "1                  0      1                       0   \n",
       "2                  0      1                       0   \n",
       "\n",
       "event_type  Violence against civilians year_month  \n",
       "0                                    0    2015-10  \n",
       "1                                    0    2012-08  \n",
       "2                                    0    2016-01  "
      ]
     },
     "execution_count": 34,
     "metadata": {},
     "output_type": "execute_result"
    }
   ],
   "source": [
    "conf_types.head(3)"
   ]
  },
  {
   "cell_type": "code",
   "execution_count": 35,
   "metadata": {},
   "outputs": [],
   "source": [
    "conf_types = conf_types.groupby([\"Grid_ID\",\"year_month\"]).sum().reset_index()"
   ]
  },
  {
   "cell_type": "code",
   "execution_count": 36,
   "metadata": {},
   "outputs": [
    {
     "data": {
      "text/plain": [
       "event_type\n",
       "Grid_ID                       14316767\n",
       "Battles                             65\n",
       "Explosions/Remote violence           9\n",
       "Protests                          4771\n",
       "Riots                             4228\n",
       "Strategic developments              38\n",
       "Violence against civilians         582\n",
       "dtype: int64"
      ]
     },
     "execution_count": 36,
     "metadata": {},
     "output_type": "execute_result"
    }
   ],
   "source": [
    "conf_types.sum()"
   ]
  },
  {
   "cell_type": "code",
   "execution_count": 37,
   "metadata": {},
   "outputs": [
    {
     "data": {
      "text/plain": [
       "9693"
      ]
     },
     "execution_count": 37,
     "metadata": {},
     "output_type": "execute_result"
    }
   ],
   "source": [
    "65+9+4771+4228+38+582 # check sum"
   ]
  },
  {
   "cell_type": "markdown",
   "metadata": {},
   "source": [
    "### Type of mines within admin boundaries"
   ]
  },
  {
   "cell_type": "code",
   "execution_count": 38,
   "metadata": {},
   "outputs": [],
   "source": [
    "mines_admin = mines.groupby(\"Grid_ID\")['Mineral'].value_counts().unstack(fill_value=0).reset_index()"
   ]
  },
  {
   "cell_type": "markdown",
   "metadata": {},
   "source": [
    "### All dates for each admin boundary"
   ]
  },
  {
   "cell_type": "code",
   "execution_count": 39,
   "metadata": {},
   "outputs": [],
   "source": [
    "grids = grids.dropna(subset=['ADM3']) # only keep grids that are interacted with AM#, and thus inside the country boarde"
   ]
  },
  {
   "cell_type": "code",
   "execution_count": 40,
   "metadata": {},
   "outputs": [
    {
     "data": {
      "text/html": [
       "<div>\n",
       "<style scoped>\n",
       "    .dataframe tbody tr th:only-of-type {\n",
       "        vertical-align: middle;\n",
       "    }\n",
       "\n",
       "    .dataframe tbody tr th {\n",
       "        vertical-align: top;\n",
       "    }\n",
       "\n",
       "    .dataframe thead th {\n",
       "        text-align: right;\n",
       "    }\n",
       "</style>\n",
       "<table border=\"1\" class=\"dataframe\">\n",
       "  <thead>\n",
       "    <tr style=\"text-align: right;\">\n",
       "      <th></th>\n",
       "      <th>Grid_ID</th>\n",
       "      <th>ADM3</th>\n",
       "    </tr>\n",
       "  </thead>\n",
       "  <tbody>\n",
       "    <tr>\n",
       "      <td>0</td>\n",
       "      <td>1</td>\n",
       "      <td>Cobham State Forest</td>\n",
       "    </tr>\n",
       "    <tr>\n",
       "      <td>1</td>\n",
       "      <td>2</td>\n",
       "      <td>Cobham State Forest</td>\n",
       "    </tr>\n",
       "    <tr>\n",
       "      <td>2</td>\n",
       "      <td>3</td>\n",
       "      <td>Cobham State Forest</td>\n",
       "    </tr>\n",
       "    <tr>\n",
       "      <td>3</td>\n",
       "      <td>4</td>\n",
       "      <td>Cobham State Forest</td>\n",
       "    </tr>\n",
       "    <tr>\n",
       "      <td>4</td>\n",
       "      <td>5</td>\n",
       "      <td>Cobham State Forest</td>\n",
       "    </tr>\n",
       "    <tr>\n",
       "      <td>...</td>\n",
       "      <td>...</td>\n",
       "      <td>...</td>\n",
       "    </tr>\n",
       "    <tr>\n",
       "      <td>4663</td>\n",
       "      <td>4664</td>\n",
       "      <td>Kgalagadi Transfrontier P</td>\n",
       "    </tr>\n",
       "    <tr>\n",
       "      <td>4664</td>\n",
       "      <td>4665</td>\n",
       "      <td>Kgalagadi Transfrontier P</td>\n",
       "    </tr>\n",
       "    <tr>\n",
       "      <td>4665</td>\n",
       "      <td>4666</td>\n",
       "      <td>Kgalagadi Transfrontier P</td>\n",
       "    </tr>\n",
       "    <tr>\n",
       "      <td>4666</td>\n",
       "      <td>4667</td>\n",
       "      <td>Kgalagadi Transfrontier P</td>\n",
       "    </tr>\n",
       "    <tr>\n",
       "      <td>4667</td>\n",
       "      <td>4668</td>\n",
       "      <td>Kgalagadi Transfrontier P</td>\n",
       "    </tr>\n",
       "  </tbody>\n",
       "</table>\n",
       "<p>4668 rows × 2 columns</p>\n",
       "</div>"
      ],
      "text/plain": [
       "      Grid_ID                       ADM3\n",
       "0           1        Cobham State Forest\n",
       "1           2        Cobham State Forest\n",
       "2           3        Cobham State Forest\n",
       "3           4        Cobham State Forest\n",
       "4           5        Cobham State Forest\n",
       "...       ...                        ...\n",
       "4663     4664  Kgalagadi Transfrontier P\n",
       "4664     4665  Kgalagadi Transfrontier P\n",
       "4665     4666  Kgalagadi Transfrontier P\n",
       "4666     4667  Kgalagadi Transfrontier P\n",
       "4667     4668  Kgalagadi Transfrontier P\n",
       "\n",
       "[4668 rows x 2 columns]"
      ]
     },
     "execution_count": 40,
     "metadata": {},
     "output_type": "execute_result"
    }
   ],
   "source": [
    "grids"
   ]
  },
  {
   "cell_type": "code",
   "execution_count": 41,
   "metadata": {},
   "outputs": [
    {
     "name": "stdout",
     "output_type": "stream",
     "text": [
      "4668\n"
     ]
    }
   ],
   "source": [
    "print(len(grids.Grid_ID.unique())) # number of unique local municipalities\n",
    "unique_grids = grids.Grid_ID.unique()"
   ]
  },
  {
   "cell_type": "code",
   "execution_count": 42,
   "metadata": {
    "scrolled": true
   },
   "outputs": [],
   "source": [
    "prices_adm = prices.copy()"
   ]
  },
  {
   "cell_type": "code",
   "execution_count": 43,
   "metadata": {},
   "outputs": [],
   "source": [
    "s= pd.Series(unique_grids) \n",
    "s_n = len(s)\n",
    "prices_adm_n = len(prices_adm)\n",
    "prices_adm = pd.DataFrame(np.repeat(prices_adm.values,s_n, axis = 0), columns = prices_adm.columns, index = np.tile(s,prices_adm_n)).rename_axis('Grid_ID').reset_index()"
   ]
  },
  {
   "cell_type": "code",
   "execution_count": 44,
   "metadata": {
    "scrolled": true
   },
   "outputs": [
    {
     "data": {
      "text/plain": [
       "True"
      ]
     },
     "execution_count": 44,
     "metadata": {},
     "output_type": "execute_result"
    }
   ],
   "source": [
    "len(prices_adm) == 96 * len(unique_grids) # Check if correct number of rows has been made (96 number of periods)"
   ]
  },
  {
   "cell_type": "code",
   "execution_count": 45,
   "metadata": {},
   "outputs": [
    {
     "data": {
      "text/plain": [
       "True"
      ]
     },
     "execution_count": 45,
     "metadata": {},
     "output_type": "execute_result"
    }
   ],
   "source": [
    "len(prices_adm.Grid_ID.unique()) == len(unique_grids) # Check if all admins have been included"
   ]
  },
  {
   "cell_type": "code",
   "execution_count": 46,
   "metadata": {},
   "outputs": [
    {
     "data": {
      "text/html": [
       "<div>\n",
       "<style scoped>\n",
       "    .dataframe tbody tr th:only-of-type {\n",
       "        vertical-align: middle;\n",
       "    }\n",
       "\n",
       "    .dataframe tbody tr th {\n",
       "        vertical-align: top;\n",
       "    }\n",
       "\n",
       "    .dataframe thead th {\n",
       "        text-align: right;\n",
       "    }\n",
       "</style>\n",
       "<table border=\"1\" class=\"dataframe\">\n",
       "  <thead>\n",
       "    <tr style=\"text-align: right;\">\n",
       "      <th></th>\n",
       "      <th>Grid_ID</th>\n",
       "      <th>year_month</th>\n",
       "      <th>Aluminium_price</th>\n",
       "      <th>Copper_price</th>\n",
       "      <th>Gold_price</th>\n",
       "      <th>Lead_price</th>\n",
       "      <th>Nickel_price</th>\n",
       "      <th>Platinum_price</th>\n",
       "      <th>Uranium_price</th>\n",
       "      <th>Zinc_price</th>\n",
       "      <th>Iron_price</th>\n",
       "      <th>Coal_price</th>\n",
       "      <th>Titanium_price</th>\n",
       "      <th>Diamond_price</th>\n",
       "    </tr>\n",
       "  </thead>\n",
       "  <tbody>\n",
       "    <tr>\n",
       "      <td>0</td>\n",
       "      <td>1</td>\n",
       "      <td>2012-01</td>\n",
       "      <td>3.33748</td>\n",
       "      <td>3.90544</td>\n",
       "      <td>3.21921</td>\n",
       "      <td>3.32312</td>\n",
       "      <td>4.29961</td>\n",
       "      <td>3.17838</td>\n",
       "      <td>1.75821</td>\n",
       "      <td>3.29938</td>\n",
       "      <td>2.14693</td>\n",
       "      <td>2.02637</td>\n",
       "      <td>1.06209</td>\n",
       "      <td>2.36847</td>\n",
       "    </tr>\n",
       "    <tr>\n",
       "      <td>1</td>\n",
       "      <td>2</td>\n",
       "      <td>2012-01</td>\n",
       "      <td>3.33748</td>\n",
       "      <td>3.90544</td>\n",
       "      <td>3.21921</td>\n",
       "      <td>3.32312</td>\n",
       "      <td>4.29961</td>\n",
       "      <td>3.17838</td>\n",
       "      <td>1.75821</td>\n",
       "      <td>3.29938</td>\n",
       "      <td>2.14693</td>\n",
       "      <td>2.02637</td>\n",
       "      <td>1.06209</td>\n",
       "      <td>2.36847</td>\n",
       "    </tr>\n",
       "    <tr>\n",
       "      <td>2</td>\n",
       "      <td>3</td>\n",
       "      <td>2012-01</td>\n",
       "      <td>3.33748</td>\n",
       "      <td>3.90544</td>\n",
       "      <td>3.21921</td>\n",
       "      <td>3.32312</td>\n",
       "      <td>4.29961</td>\n",
       "      <td>3.17838</td>\n",
       "      <td>1.75821</td>\n",
       "      <td>3.29938</td>\n",
       "      <td>2.14693</td>\n",
       "      <td>2.02637</td>\n",
       "      <td>1.06209</td>\n",
       "      <td>2.36847</td>\n",
       "    </tr>\n",
       "    <tr>\n",
       "      <td>3</td>\n",
       "      <td>4</td>\n",
       "      <td>2012-01</td>\n",
       "      <td>3.33748</td>\n",
       "      <td>3.90544</td>\n",
       "      <td>3.21921</td>\n",
       "      <td>3.32312</td>\n",
       "      <td>4.29961</td>\n",
       "      <td>3.17838</td>\n",
       "      <td>1.75821</td>\n",
       "      <td>3.29938</td>\n",
       "      <td>2.14693</td>\n",
       "      <td>2.02637</td>\n",
       "      <td>1.06209</td>\n",
       "      <td>2.36847</td>\n",
       "    </tr>\n",
       "    <tr>\n",
       "      <td>4</td>\n",
       "      <td>5</td>\n",
       "      <td>2012-01</td>\n",
       "      <td>3.33748</td>\n",
       "      <td>3.90544</td>\n",
       "      <td>3.21921</td>\n",
       "      <td>3.32312</td>\n",
       "      <td>4.29961</td>\n",
       "      <td>3.17838</td>\n",
       "      <td>1.75821</td>\n",
       "      <td>3.29938</td>\n",
       "      <td>2.14693</td>\n",
       "      <td>2.02637</td>\n",
       "      <td>1.06209</td>\n",
       "      <td>2.36847</td>\n",
       "    </tr>\n",
       "    <tr>\n",
       "      <td>...</td>\n",
       "      <td>...</td>\n",
       "      <td>...</td>\n",
       "      <td>...</td>\n",
       "      <td>...</td>\n",
       "      <td>...</td>\n",
       "      <td>...</td>\n",
       "      <td>...</td>\n",
       "      <td>...</td>\n",
       "      <td>...</td>\n",
       "      <td>...</td>\n",
       "      <td>...</td>\n",
       "      <td>...</td>\n",
       "      <td>...</td>\n",
       "      <td>...</td>\n",
       "    </tr>\n",
       "    <tr>\n",
       "      <td>448123</td>\n",
       "      <td>4664</td>\n",
       "      <td>2019-12</td>\n",
       "      <td>3.25089</td>\n",
       "      <td>3.78263</td>\n",
       "      <td>3.16981</td>\n",
       "      <td>3.27861</td>\n",
       "      <td>4.13989</td>\n",
       "      <td>2.96597</td>\n",
       "      <td>1.4067</td>\n",
       "      <td>3.3566</td>\n",
       "      <td>1.96685</td>\n",
       "      <td>1.88098</td>\n",
       "      <td>1.0328</td>\n",
       "      <td>2.32222</td>\n",
       "    </tr>\n",
       "    <tr>\n",
       "      <td>448124</td>\n",
       "      <td>4665</td>\n",
       "      <td>2019-12</td>\n",
       "      <td>3.25089</td>\n",
       "      <td>3.78263</td>\n",
       "      <td>3.16981</td>\n",
       "      <td>3.27861</td>\n",
       "      <td>4.13989</td>\n",
       "      <td>2.96597</td>\n",
       "      <td>1.4067</td>\n",
       "      <td>3.3566</td>\n",
       "      <td>1.96685</td>\n",
       "      <td>1.88098</td>\n",
       "      <td>1.0328</td>\n",
       "      <td>2.32222</td>\n",
       "    </tr>\n",
       "    <tr>\n",
       "      <td>448125</td>\n",
       "      <td>4666</td>\n",
       "      <td>2019-12</td>\n",
       "      <td>3.25089</td>\n",
       "      <td>3.78263</td>\n",
       "      <td>3.16981</td>\n",
       "      <td>3.27861</td>\n",
       "      <td>4.13989</td>\n",
       "      <td>2.96597</td>\n",
       "      <td>1.4067</td>\n",
       "      <td>3.3566</td>\n",
       "      <td>1.96685</td>\n",
       "      <td>1.88098</td>\n",
       "      <td>1.0328</td>\n",
       "      <td>2.32222</td>\n",
       "    </tr>\n",
       "    <tr>\n",
       "      <td>448126</td>\n",
       "      <td>4667</td>\n",
       "      <td>2019-12</td>\n",
       "      <td>3.25089</td>\n",
       "      <td>3.78263</td>\n",
       "      <td>3.16981</td>\n",
       "      <td>3.27861</td>\n",
       "      <td>4.13989</td>\n",
       "      <td>2.96597</td>\n",
       "      <td>1.4067</td>\n",
       "      <td>3.3566</td>\n",
       "      <td>1.96685</td>\n",
       "      <td>1.88098</td>\n",
       "      <td>1.0328</td>\n",
       "      <td>2.32222</td>\n",
       "    </tr>\n",
       "    <tr>\n",
       "      <td>448127</td>\n",
       "      <td>4668</td>\n",
       "      <td>2019-12</td>\n",
       "      <td>3.25089</td>\n",
       "      <td>3.78263</td>\n",
       "      <td>3.16981</td>\n",
       "      <td>3.27861</td>\n",
       "      <td>4.13989</td>\n",
       "      <td>2.96597</td>\n",
       "      <td>1.4067</td>\n",
       "      <td>3.3566</td>\n",
       "      <td>1.96685</td>\n",
       "      <td>1.88098</td>\n",
       "      <td>1.0328</td>\n",
       "      <td>2.32222</td>\n",
       "    </tr>\n",
       "  </tbody>\n",
       "</table>\n",
       "<p>448128 rows × 14 columns</p>\n",
       "</div>"
      ],
      "text/plain": [
       "        Grid_ID year_month Aluminium_price Copper_price Gold_price Lead_price  \\\n",
       "0             1    2012-01         3.33748      3.90544    3.21921    3.32312   \n",
       "1             2    2012-01         3.33748      3.90544    3.21921    3.32312   \n",
       "2             3    2012-01         3.33748      3.90544    3.21921    3.32312   \n",
       "3             4    2012-01         3.33748      3.90544    3.21921    3.32312   \n",
       "4             5    2012-01         3.33748      3.90544    3.21921    3.32312   \n",
       "...         ...        ...             ...          ...        ...        ...   \n",
       "448123     4664    2019-12         3.25089      3.78263    3.16981    3.27861   \n",
       "448124     4665    2019-12         3.25089      3.78263    3.16981    3.27861   \n",
       "448125     4666    2019-12         3.25089      3.78263    3.16981    3.27861   \n",
       "448126     4667    2019-12         3.25089      3.78263    3.16981    3.27861   \n",
       "448127     4668    2019-12         3.25089      3.78263    3.16981    3.27861   \n",
       "\n",
       "       Nickel_price Platinum_price Uranium_price Zinc_price Iron_price  \\\n",
       "0           4.29961        3.17838       1.75821    3.29938    2.14693   \n",
       "1           4.29961        3.17838       1.75821    3.29938    2.14693   \n",
       "2           4.29961        3.17838       1.75821    3.29938    2.14693   \n",
       "3           4.29961        3.17838       1.75821    3.29938    2.14693   \n",
       "4           4.29961        3.17838       1.75821    3.29938    2.14693   \n",
       "...             ...            ...           ...        ...        ...   \n",
       "448123      4.13989        2.96597        1.4067     3.3566    1.96685   \n",
       "448124      4.13989        2.96597        1.4067     3.3566    1.96685   \n",
       "448125      4.13989        2.96597        1.4067     3.3566    1.96685   \n",
       "448126      4.13989        2.96597        1.4067     3.3566    1.96685   \n",
       "448127      4.13989        2.96597        1.4067     3.3566    1.96685   \n",
       "\n",
       "       Coal_price Titanium_price Diamond_price  \n",
       "0         2.02637        1.06209       2.36847  \n",
       "1         2.02637        1.06209       2.36847  \n",
       "2         2.02637        1.06209       2.36847  \n",
       "3         2.02637        1.06209       2.36847  \n",
       "4         2.02637        1.06209       2.36847  \n",
       "...           ...            ...           ...  \n",
       "448123    1.88098         1.0328       2.32222  \n",
       "448124    1.88098         1.0328       2.32222  \n",
       "448125    1.88098         1.0328       2.32222  \n",
       "448126    1.88098         1.0328       2.32222  \n",
       "448127    1.88098         1.0328       2.32222  \n",
       "\n",
       "[448128 rows x 14 columns]"
      ]
     },
     "execution_count": 46,
     "metadata": {},
     "output_type": "execute_result"
    }
   ],
   "source": [
    "prices_adm"
   ]
  },
  {
   "cell_type": "code",
   "execution_count": 47,
   "metadata": {},
   "outputs": [],
   "source": [
    "pd.to_datetime(prices_adm.year_month, format='%Y-%m')\n",
    "prices_adm['year_month'] = pd.to_datetime(prices_adm['year_month']).dt.to_period('M')"
   ]
  },
  {
   "cell_type": "code",
   "execution_count": 48,
   "metadata": {},
   "outputs": [],
   "source": [
    "#prices_adm = pd.merge(prices_adm, grids, how='left', on='Grid_ID')\n",
    "#prices_adm"
   ]
  },
  {
   "cell_type": "markdown",
   "metadata": {},
   "source": [
    "### Merge admin mines and mine prices together"
   ]
  },
  {
   "cell_type": "code",
   "execution_count": 49,
   "metadata": {},
   "outputs": [],
   "source": [
    "mines_prices = pd.merge(prices_adm, mines_admin,how='left', on ='Grid_ID')"
   ]
  },
  {
   "cell_type": "code",
   "execution_count": 50,
   "metadata": {},
   "outputs": [],
   "source": [
    "mines_prices_conf = pd.merge(mines_prices, conf_types, how='left', on=['year_month', 'Grid_ID'])"
   ]
  },
  {
   "cell_type": "code",
   "execution_count": 51,
   "metadata": {},
   "outputs": [],
   "source": [
    "#mines_prices_conf.sum()"
   ]
  },
  {
   "cell_type": "code",
   "execution_count": 52,
   "metadata": {},
   "outputs": [],
   "source": [
    "mines_prices_conf = pd.merge(mines_prices_conf, grids, on='Grid_ID', how='left')"
   ]
  },
  {
   "cell_type": "code",
   "execution_count": 53,
   "metadata": {
    "scrolled": true
   },
   "outputs": [
    {
     "data": {
      "text/html": [
       "<div>\n",
       "<style scoped>\n",
       "    .dataframe tbody tr th:only-of-type {\n",
       "        vertical-align: middle;\n",
       "    }\n",
       "\n",
       "    .dataframe tbody tr th {\n",
       "        vertical-align: top;\n",
       "    }\n",
       "\n",
       "    .dataframe thead th {\n",
       "        text-align: right;\n",
       "    }\n",
       "</style>\n",
       "<table border=\"1\" class=\"dataframe\">\n",
       "  <thead>\n",
       "    <tr style=\"text-align: right;\">\n",
       "      <th></th>\n",
       "      <th>Grid_ID</th>\n",
       "      <th>year_month</th>\n",
       "      <th>Aluminium_price</th>\n",
       "      <th>Copper_price</th>\n",
       "      <th>Gold_price</th>\n",
       "      <th>Lead_price</th>\n",
       "      <th>Nickel_price</th>\n",
       "      <th>Platinum_price</th>\n",
       "      <th>Uranium_price</th>\n",
       "      <th>Zinc_price</th>\n",
       "      <th>...</th>\n",
       "      <th>Titanium_min</th>\n",
       "      <th>Uranium_min</th>\n",
       "      <th>Zink_min</th>\n",
       "      <th>Battles</th>\n",
       "      <th>Explosions/Remote violence</th>\n",
       "      <th>Protests</th>\n",
       "      <th>Riots</th>\n",
       "      <th>Strategic developments</th>\n",
       "      <th>Violence against civilians</th>\n",
       "      <th>ADM3</th>\n",
       "    </tr>\n",
       "  </thead>\n",
       "  <tbody>\n",
       "    <tr>\n",
       "      <td>0</td>\n",
       "      <td>1</td>\n",
       "      <td>2012-01</td>\n",
       "      <td>3.33748</td>\n",
       "      <td>3.90544</td>\n",
       "      <td>3.21921</td>\n",
       "      <td>3.32312</td>\n",
       "      <td>4.29961</td>\n",
       "      <td>3.17838</td>\n",
       "      <td>1.75821</td>\n",
       "      <td>3.29938</td>\n",
       "      <td>...</td>\n",
       "      <td>NaN</td>\n",
       "      <td>NaN</td>\n",
       "      <td>NaN</td>\n",
       "      <td>NaN</td>\n",
       "      <td>NaN</td>\n",
       "      <td>NaN</td>\n",
       "      <td>NaN</td>\n",
       "      <td>NaN</td>\n",
       "      <td>NaN</td>\n",
       "      <td>Cobham State Forest</td>\n",
       "    </tr>\n",
       "    <tr>\n",
       "      <td>4668</td>\n",
       "      <td>1</td>\n",
       "      <td>2012-02</td>\n",
       "      <td>3.3514</td>\n",
       "      <td>3.92545</td>\n",
       "      <td>3.24094</td>\n",
       "      <td>3.32682</td>\n",
       "      <td>4.3096</td>\n",
       "      <td>3.22063</td>\n",
       "      <td>1.75603</td>\n",
       "      <td>3.31359</td>\n",
       "      <td>...</td>\n",
       "      <td>NaN</td>\n",
       "      <td>NaN</td>\n",
       "      <td>NaN</td>\n",
       "      <td>NaN</td>\n",
       "      <td>NaN</td>\n",
       "      <td>NaN</td>\n",
       "      <td>NaN</td>\n",
       "      <td>NaN</td>\n",
       "      <td>NaN</td>\n",
       "      <td>Cobham State Forest</td>\n",
       "    </tr>\n",
       "    <tr>\n",
       "      <td>9336</td>\n",
       "      <td>1</td>\n",
       "      <td>2012-03</td>\n",
       "      <td>3.34734</td>\n",
       "      <td>3.92722</td>\n",
       "      <td>3.22429</td>\n",
       "      <td>3.31335</td>\n",
       "      <td>4.27106</td>\n",
       "      <td>3.21985</td>\n",
       "      <td>1.7466</td>\n",
       "      <td>3.3088</td>\n",
       "      <td>...</td>\n",
       "      <td>NaN</td>\n",
       "      <td>NaN</td>\n",
       "      <td>NaN</td>\n",
       "      <td>NaN</td>\n",
       "      <td>NaN</td>\n",
       "      <td>NaN</td>\n",
       "      <td>NaN</td>\n",
       "      <td>NaN</td>\n",
       "      <td>NaN</td>\n",
       "      <td>Cobham State Forest</td>\n",
       "    </tr>\n",
       "    <tr>\n",
       "      <td>14004</td>\n",
       "      <td>1</td>\n",
       "      <td>2012-04</td>\n",
       "      <td>3.31953</td>\n",
       "      <td>3.91696</td>\n",
       "      <td>3.21759</td>\n",
       "      <td>3.31679</td>\n",
       "      <td>4.25268</td>\n",
       "      <td>3.20076</td>\n",
       "      <td>1.7452</td>\n",
       "      <td>3.30161</td>\n",
       "      <td>...</td>\n",
       "      <td>NaN</td>\n",
       "      <td>NaN</td>\n",
       "      <td>NaN</td>\n",
       "      <td>NaN</td>\n",
       "      <td>NaN</td>\n",
       "      <td>NaN</td>\n",
       "      <td>NaN</td>\n",
       "      <td>NaN</td>\n",
       "      <td>NaN</td>\n",
       "      <td>Cobham State Forest</td>\n",
       "    </tr>\n",
       "    <tr>\n",
       "      <td>18672</td>\n",
       "      <td>1</td>\n",
       "      <td>2012-05</td>\n",
       "      <td>3.30997</td>\n",
       "      <td>3.89962</td>\n",
       "      <td>3.20075</td>\n",
       "      <td>3.30072</td>\n",
       "      <td>4.22944</td>\n",
       "      <td>3.16687</td>\n",
       "      <td>1.74851</td>\n",
       "      <td>3.28485</td>\n",
       "      <td>...</td>\n",
       "      <td>NaN</td>\n",
       "      <td>NaN</td>\n",
       "      <td>NaN</td>\n",
       "      <td>NaN</td>\n",
       "      <td>NaN</td>\n",
       "      <td>NaN</td>\n",
       "      <td>NaN</td>\n",
       "      <td>NaN</td>\n",
       "      <td>NaN</td>\n",
       "      <td>Cobham State Forest</td>\n",
       "    </tr>\n",
       "    <tr>\n",
       "      <td>...</td>\n",
       "      <td>...</td>\n",
       "      <td>...</td>\n",
       "      <td>...</td>\n",
       "      <td>...</td>\n",
       "      <td>...</td>\n",
       "      <td>...</td>\n",
       "      <td>...</td>\n",
       "      <td>...</td>\n",
       "      <td>...</td>\n",
       "      <td>...</td>\n",
       "      <td>...</td>\n",
       "      <td>...</td>\n",
       "      <td>...</td>\n",
       "      <td>...</td>\n",
       "      <td>...</td>\n",
       "      <td>...</td>\n",
       "      <td>...</td>\n",
       "      <td>...</td>\n",
       "      <td>...</td>\n",
       "      <td>...</td>\n",
       "      <td>...</td>\n",
       "    </tr>\n",
       "    <tr>\n",
       "      <td>429455</td>\n",
       "      <td>4668</td>\n",
       "      <td>2019-08</td>\n",
       "      <td>3.24802</td>\n",
       "      <td>3.75659</td>\n",
       "      <td>3.17456</td>\n",
       "      <td>3.31064</td>\n",
       "      <td>4.19688</td>\n",
       "      <td>2.93536</td>\n",
       "      <td>1.40281</td>\n",
       "      <td>3.3568</td>\n",
       "      <td>...</td>\n",
       "      <td>NaN</td>\n",
       "      <td>NaN</td>\n",
       "      <td>NaN</td>\n",
       "      <td>NaN</td>\n",
       "      <td>NaN</td>\n",
       "      <td>NaN</td>\n",
       "      <td>NaN</td>\n",
       "      <td>NaN</td>\n",
       "      <td>NaN</td>\n",
       "      <td>Kgalagadi Transfrontier P</td>\n",
       "    </tr>\n",
       "    <tr>\n",
       "      <td>434123</td>\n",
       "      <td>4668</td>\n",
       "      <td>2019-09</td>\n",
       "      <td>3.25027</td>\n",
       "      <td>3.76037</td>\n",
       "      <td>3.178</td>\n",
       "      <td>3.31636</td>\n",
       "      <td>4.24734</td>\n",
       "      <td>2.97411</td>\n",
       "      <td>1.40492</td>\n",
       "      <td>3.36765</td>\n",
       "      <td>...</td>\n",
       "      <td>NaN</td>\n",
       "      <td>NaN</td>\n",
       "      <td>NaN</td>\n",
       "      <td>NaN</td>\n",
       "      <td>NaN</td>\n",
       "      <td>NaN</td>\n",
       "      <td>NaN</td>\n",
       "      <td>NaN</td>\n",
       "      <td>NaN</td>\n",
       "      <td>Kgalagadi Transfrontier P</td>\n",
       "    </tr>\n",
       "    <tr>\n",
       "      <td>438791</td>\n",
       "      <td>4668</td>\n",
       "      <td>2019-10</td>\n",
       "      <td>3.23891</td>\n",
       "      <td>3.75941</td>\n",
       "      <td>3.17541</td>\n",
       "      <td>3.33945</td>\n",
       "      <td>4.23293</td>\n",
       "      <td>2.95405</td>\n",
       "      <td>1.39304</td>\n",
       "      <td>3.3882</td>\n",
       "      <td>...</td>\n",
       "      <td>NaN</td>\n",
       "      <td>NaN</td>\n",
       "      <td>NaN</td>\n",
       "      <td>NaN</td>\n",
       "      <td>NaN</td>\n",
       "      <td>NaN</td>\n",
       "      <td>NaN</td>\n",
       "      <td>NaN</td>\n",
       "      <td>NaN</td>\n",
       "      <td>Kgalagadi Transfrontier P</td>\n",
       "    </tr>\n",
       "    <tr>\n",
       "      <td>443459</td>\n",
       "      <td>4668</td>\n",
       "      <td>2019-11</td>\n",
       "      <td>3.24742</td>\n",
       "      <td>3.76799</td>\n",
       "      <td>3.16935</td>\n",
       "      <td>3.30776</td>\n",
       "      <td>4.18213</td>\n",
       "      <td>2.95592</td>\n",
       "      <td>1.40106</td>\n",
       "      <td>3.38577</td>\n",
       "      <td>...</td>\n",
       "      <td>NaN</td>\n",
       "      <td>NaN</td>\n",
       "      <td>NaN</td>\n",
       "      <td>NaN</td>\n",
       "      <td>NaN</td>\n",
       "      <td>NaN</td>\n",
       "      <td>NaN</td>\n",
       "      <td>NaN</td>\n",
       "      <td>NaN</td>\n",
       "      <td>Kgalagadi Transfrontier P</td>\n",
       "    </tr>\n",
       "    <tr>\n",
       "      <td>448127</td>\n",
       "      <td>4668</td>\n",
       "      <td>2019-12</td>\n",
       "      <td>3.25089</td>\n",
       "      <td>3.78263</td>\n",
       "      <td>3.16981</td>\n",
       "      <td>3.27861</td>\n",
       "      <td>4.13989</td>\n",
       "      <td>2.96597</td>\n",
       "      <td>1.4067</td>\n",
       "      <td>3.3566</td>\n",
       "      <td>...</td>\n",
       "      <td>NaN</td>\n",
       "      <td>NaN</td>\n",
       "      <td>NaN</td>\n",
       "      <td>NaN</td>\n",
       "      <td>NaN</td>\n",
       "      <td>NaN</td>\n",
       "      <td>NaN</td>\n",
       "      <td>NaN</td>\n",
       "      <td>NaN</td>\n",
       "      <td>Kgalagadi Transfrontier P</td>\n",
       "    </tr>\n",
       "  </tbody>\n",
       "</table>\n",
       "<p>448128 rows × 34 columns</p>\n",
       "</div>"
      ],
      "text/plain": [
       "        Grid_ID year_month Aluminium_price Copper_price Gold_price Lead_price  \\\n",
       "0             1    2012-01         3.33748      3.90544    3.21921    3.32312   \n",
       "4668          1    2012-02          3.3514      3.92545    3.24094    3.32682   \n",
       "9336          1    2012-03         3.34734      3.92722    3.22429    3.31335   \n",
       "14004         1    2012-04         3.31953      3.91696    3.21759    3.31679   \n",
       "18672         1    2012-05         3.30997      3.89962    3.20075    3.30072   \n",
       "...         ...        ...             ...          ...        ...        ...   \n",
       "429455     4668    2019-08         3.24802      3.75659    3.17456    3.31064   \n",
       "434123     4668    2019-09         3.25027      3.76037      3.178    3.31636   \n",
       "438791     4668    2019-10         3.23891      3.75941    3.17541    3.33945   \n",
       "443459     4668    2019-11         3.24742      3.76799    3.16935    3.30776   \n",
       "448127     4668    2019-12         3.25089      3.78263    3.16981    3.27861   \n",
       "\n",
       "       Nickel_price Platinum_price Uranium_price Zinc_price  ... Titanium_min  \\\n",
       "0           4.29961        3.17838       1.75821    3.29938  ...          NaN   \n",
       "4668         4.3096        3.22063       1.75603    3.31359  ...          NaN   \n",
       "9336        4.27106        3.21985        1.7466     3.3088  ...          NaN   \n",
       "14004       4.25268        3.20076        1.7452    3.30161  ...          NaN   \n",
       "18672       4.22944        3.16687       1.74851    3.28485  ...          NaN   \n",
       "...             ...            ...           ...        ...  ...          ...   \n",
       "429455      4.19688        2.93536       1.40281     3.3568  ...          NaN   \n",
       "434123      4.24734        2.97411       1.40492    3.36765  ...          NaN   \n",
       "438791      4.23293        2.95405       1.39304     3.3882  ...          NaN   \n",
       "443459      4.18213        2.95592       1.40106    3.38577  ...          NaN   \n",
       "448127      4.13989        2.96597        1.4067     3.3566  ...          NaN   \n",
       "\n",
       "       Uranium_min Zink_min Battles  Explosions/Remote violence  Protests  \\\n",
       "0              NaN      NaN     NaN                         NaN       NaN   \n",
       "4668           NaN      NaN     NaN                         NaN       NaN   \n",
       "9336           NaN      NaN     NaN                         NaN       NaN   \n",
       "14004          NaN      NaN     NaN                         NaN       NaN   \n",
       "18672          NaN      NaN     NaN                         NaN       NaN   \n",
       "...            ...      ...     ...                         ...       ...   \n",
       "429455         NaN      NaN     NaN                         NaN       NaN   \n",
       "434123         NaN      NaN     NaN                         NaN       NaN   \n",
       "438791         NaN      NaN     NaN                         NaN       NaN   \n",
       "443459         NaN      NaN     NaN                         NaN       NaN   \n",
       "448127         NaN      NaN     NaN                         NaN       NaN   \n",
       "\n",
       "        Riots  Strategic developments  Violence against civilians  \\\n",
       "0         NaN                     NaN                         NaN   \n",
       "4668      NaN                     NaN                         NaN   \n",
       "9336      NaN                     NaN                         NaN   \n",
       "14004     NaN                     NaN                         NaN   \n",
       "18672     NaN                     NaN                         NaN   \n",
       "...       ...                     ...                         ...   \n",
       "429455    NaN                     NaN                         NaN   \n",
       "434123    NaN                     NaN                         NaN   \n",
       "438791    NaN                     NaN                         NaN   \n",
       "443459    NaN                     NaN                         NaN   \n",
       "448127    NaN                     NaN                         NaN   \n",
       "\n",
       "                             ADM3  \n",
       "0             Cobham State Forest  \n",
       "4668          Cobham State Forest  \n",
       "9336          Cobham State Forest  \n",
       "14004         Cobham State Forest  \n",
       "18672         Cobham State Forest  \n",
       "...                           ...  \n",
       "429455  Kgalagadi Transfrontier P  \n",
       "434123  Kgalagadi Transfrontier P  \n",
       "438791  Kgalagadi Transfrontier P  \n",
       "443459  Kgalagadi Transfrontier P  \n",
       "448127  Kgalagadi Transfrontier P  \n",
       "\n",
       "[448128 rows x 34 columns]"
      ]
     },
     "execution_count": 53,
     "metadata": {},
     "output_type": "execute_result"
    }
   ],
   "source": [
    "mines_prices_conf.sort_values(by=['Grid_ID', 'year_month'])"
   ]
  },
  {
   "cell_type": "code",
   "execution_count": 54,
   "metadata": {},
   "outputs": [
    {
     "data": {
      "text/plain": [
       "Index(['Grid_ID', 'year_month', 'Aluminium_price', 'Copper_price',\n",
       "       'Gold_price', 'Lead_price', 'Nickel_price', 'Platinum_price',\n",
       "       'Uranium_price', 'Zinc_price', 'Iron_price', 'Coal_price',\n",
       "       'Titanium_price', 'Diamond_price', 'Aluminium_min', 'Coal_min',\n",
       "       'Copper_min', 'Diamond (Alluvial)_min', 'Diamond (Kimberline)_min',\n",
       "       'Gold_min', 'Iron_min', 'Lead_min', 'Nickel_min', 'Platinum_min',\n",
       "       'Titanium_min', 'Uranium_min', 'Zink_min', 'Battles',\n",
       "       'Explosions/Remote violence', 'Protests', 'Riots',\n",
       "       'Strategic developments', 'Violence against civilians', 'ADM3'],\n",
       "      dtype='object')"
      ]
     },
     "execution_count": 54,
     "metadata": {},
     "output_type": "execute_result"
    }
   ],
   "source": [
    "mines_prices_conf.columns"
   ]
  },
  {
   "cell_type": "code",
   "execution_count": 55,
   "metadata": {},
   "outputs": [],
   "source": [
    "mines_prices_conf['year_month']=mines_prices_conf['year_month'].astype(str)\n",
    "mines_prices_conf.iloc[:,2:-1]=mines_prices_conf.iloc[:,2:-1].astype(float)\n",
    "mines_prices_conf['ADM3']=mines_prices_conf['ADM3'].astype(str)"
   ]
  },
  {
   "cell_type": "code",
   "execution_count": 56,
   "metadata": {},
   "outputs": [
    {
     "name": "stdout",
     "output_type": "stream",
     "text": [
      "<class 'pandas.core.frame.DataFrame'>\n",
      "Int64Index: 448128 entries, 0 to 448127\n",
      "Data columns (total 34 columns):\n",
      "Grid_ID                       448128 non-null int64\n",
      "year_month                    448128 non-null object\n",
      "Aluminium_price               448128 non-null float64\n",
      "Copper_price                  448128 non-null float64\n",
      "Gold_price                    448128 non-null float64\n",
      "Lead_price                    448128 non-null float64\n",
      "Nickel_price                  448128 non-null float64\n",
      "Platinum_price                448128 non-null float64\n",
      "Uranium_price                 448128 non-null float64\n",
      "Zinc_price                    448128 non-null float64\n",
      "Iron_price                    448128 non-null float64\n",
      "Coal_price                    448128 non-null float64\n",
      "Titanium_price                448128 non-null float64\n",
      "Diamond_price                 448128 non-null float64\n",
      "Aluminium_min                 48384 non-null float64\n",
      "Coal_min                      48384 non-null float64\n",
      "Copper_min                    48384 non-null float64\n",
      "Diamond (Alluvial)_min        48384 non-null float64\n",
      "Diamond (Kimberline)_min      48384 non-null float64\n",
      "Gold_min                      48384 non-null float64\n",
      "Iron_min                      48384 non-null float64\n",
      "Lead_min                      48384 non-null float64\n",
      "Nickel_min                    48384 non-null float64\n",
      "Platinum_min                  48384 non-null float64\n",
      "Titanium_min                  48384 non-null float64\n",
      "Uranium_min                   48384 non-null float64\n",
      "Zink_min                      48384 non-null float64\n",
      "Battles                       4620 non-null float64\n",
      "Explosions/Remote violence    4620 non-null float64\n",
      "Protests                      4620 non-null float64\n",
      "Riots                         4620 non-null float64\n",
      "Strategic developments        4620 non-null float64\n",
      "Violence against civilians    4620 non-null float64\n",
      "ADM3                          448128 non-null object\n",
      "dtypes: float64(31), int64(1), object(2)\n",
      "memory usage: 119.7+ MB\n"
     ]
    }
   ],
   "source": [
    "mines_prices_conf.info()"
   ]
  },
  {
   "cell_type": "code",
   "execution_count": 82,
   "metadata": {},
   "outputs": [],
   "source": [
    "mines_prices_conf['Diamond_min'] = mines_prices_conf['Diamond (Alluvial)_min'] + mines_prices_conf['Diamond (Kimberline)_min']\n",
    "\n",
    "mines_prices_conf = mines_prices_conf.drop(columns=['Diamond (Kimberline)_min', 'Diamond (Alluvial)_min'])"
   ]
  },
  {
   "cell_type": "code",
   "execution_count": 57,
   "metadata": {},
   "outputs": [],
   "source": [
    "mines_prices_conf.to_csv('dataset_mines_prices_conf_GRID20_ROBUST.csv')"
   ]
  },
  {
   "cell_type": "code",
   "execution_count": null,
   "metadata": {},
   "outputs": [],
   "source": []
  }
 ],
 "metadata": {
  "kernelspec": {
   "display_name": "Python 3",
   "language": "python",
   "name": "python3"
  },
  "language_info": {
   "codemirror_mode": {
    "name": "ipython",
    "version": 3
   },
   "file_extension": ".py",
   "mimetype": "text/x-python",
   "name": "python",
   "nbconvert_exporter": "python",
   "pygments_lexer": "ipython3",
   "version": "3.7.4"
  }
 },
 "nbformat": 4,
 "nbformat_minor": 2
}
